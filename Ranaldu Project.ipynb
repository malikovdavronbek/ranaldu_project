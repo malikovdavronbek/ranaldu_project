{
 "cells": [
  {
   "cell_type": "markdown",
   "id": "3ea41d20",
   "metadata": {},
   "source": [
    "# Analysing Cristiano Ronaldo's career history using pandas library"
   ]
  },
  {
   "cell_type": "markdown",
   "id": "7e230264",
   "metadata": {},
   "source": [
    "# Importing Libraries"
   ]
  },
  {
   "cell_type": "code",
   "execution_count": 29,
   "id": "72516e22",
   "metadata": {},
   "outputs": [],
   "source": [
    "import pandas as pd\n",
    "import numpy as np\n",
    "import seaborn as sns\n",
    "import matplotlib.pyplot as plt"
   ]
  },
  {
   "cell_type": "markdown",
   "id": "9efe1590",
   "metadata": {},
   "source": [
    "# Loading Cristiano Ronaldo data csv file "
   ]
  },
  {
   "cell_type": "code",
   "execution_count": 3,
   "id": "b9be01ea",
   "metadata": {},
   "outputs": [],
   "source": [
    "df=pd.read_csv('ranaldu.csv')"
   ]
  },
  {
   "cell_type": "code",
   "execution_count": 4,
   "id": "b83e1056",
   "metadata": {},
   "outputs": [
    {
     "data": {
      "text/html": [
       "<div>\n",
       "<style scoped>\n",
       "    .dataframe tbody tr th:only-of-type {\n",
       "        vertical-align: middle;\n",
       "    }\n",
       "\n",
       "    .dataframe tbody tr th {\n",
       "        vertical-align: top;\n",
       "    }\n",
       "\n",
       "    .dataframe thead th {\n",
       "        text-align: right;\n",
       "    }\n",
       "</style>\n",
       "<table border=\"1\" class=\"dataframe\">\n",
       "  <thead>\n",
       "    <tr style=\"text-align: right;\">\n",
       "      <th></th>\n",
       "      <th>Season</th>\n",
       "      <th>Competition</th>\n",
       "      <th>Club</th>\n",
       "      <th>Squad</th>\n",
       "      <th>PPG</th>\n",
       "      <th>Goals</th>\n",
       "      <th>Assists</th>\n",
       "      <th>Own goals</th>\n",
       "      <th>Penalty goals</th>\n",
       "      <th>Minutes per goal</th>\n",
       "      <th>Substitution on</th>\n",
       "      <th>Substitution off</th>\n",
       "      <th>Yellow Cards</th>\n",
       "      <th>Second yellow cards</th>\n",
       "      <th>Red Cards</th>\n",
       "      <th>Minutes played</th>\n",
       "    </tr>\n",
       "  </thead>\n",
       "  <tbody>\n",
       "    <tr>\n",
       "      <th>0</th>\n",
       "      <td>22/23</td>\n",
       "      <td>Premier League</td>\n",
       "      <td>Manchester United</td>\n",
       "      <td>10</td>\n",
       "      <td>2</td>\n",
       "      <td>1</td>\n",
       "      <td>-</td>\n",
       "      <td>NaN</td>\n",
       "      <td>-</td>\n",
       "      <td>340</td>\n",
       "      <td>6</td>\n",
       "      <td>1</td>\n",
       "      <td>1</td>\n",
       "      <td>-</td>\n",
       "      <td>NaN</td>\n",
       "      <td>340</td>\n",
       "    </tr>\n",
       "    <tr>\n",
       "      <th>1</th>\n",
       "      <td>22/23</td>\n",
       "      <td>Europe League</td>\n",
       "      <td>Manchester United</td>\n",
       "      <td>4</td>\n",
       "      <td>2.25</td>\n",
       "      <td>1</td>\n",
       "      <td>1</td>\n",
       "      <td>NaN</td>\n",
       "      <td>1</td>\n",
       "      <td>351</td>\n",
       "      <td>-</td>\n",
       "      <td>1</td>\n",
       "      <td>-</td>\n",
       "      <td>-</td>\n",
       "      <td>NaN</td>\n",
       "      <td>351</td>\n",
       "    </tr>\n",
       "    <tr>\n",
       "      <th>2</th>\n",
       "      <td>21/22</td>\n",
       "      <td>Premier League</td>\n",
       "      <td>Manchester United</td>\n",
       "      <td>30</td>\n",
       "      <td>1.63</td>\n",
       "      <td>18</td>\n",
       "      <td>3</td>\n",
       "      <td>NaN</td>\n",
       "      <td>3</td>\n",
       "      <td>137</td>\n",
       "      <td>3</td>\n",
       "      <td>6</td>\n",
       "      <td>8</td>\n",
       "      <td>-</td>\n",
       "      <td>NaN</td>\n",
       "      <td>2459</td>\n",
       "    </tr>\n",
       "    <tr>\n",
       "      <th>3</th>\n",
       "      <td>21/22</td>\n",
       "      <td>Chempions League</td>\n",
       "      <td>Manchester United</td>\n",
       "      <td>7</td>\n",
       "      <td>1.57</td>\n",
       "      <td>6</td>\n",
       "      <td>-</td>\n",
       "      <td>NaN</td>\n",
       "      <td>-</td>\n",
       "      <td>102</td>\n",
       "      <td>-</td>\n",
       "      <td>2</td>\n",
       "      <td>1</td>\n",
       "      <td>-</td>\n",
       "      <td>NaN</td>\n",
       "      <td>612</td>\n",
       "    </tr>\n",
       "    <tr>\n",
       "      <th>4</th>\n",
       "      <td>21/22</td>\n",
       "      <td>FA Cup</td>\n",
       "      <td>Manchester United</td>\n",
       "      <td>1</td>\n",
       "      <td>0</td>\n",
       "      <td>NaN</td>\n",
       "      <td>-</td>\n",
       "      <td>NaN</td>\n",
       "      <td>-</td>\n",
       "      <td>-</td>\n",
       "      <td>-</td>\n",
       "      <td>-</td>\n",
       "      <td>-</td>\n",
       "      <td>-</td>\n",
       "      <td>NaN</td>\n",
       "      <td>120</td>\n",
       "    </tr>\n",
       "    <tr>\n",
       "      <th>...</th>\n",
       "      <td>...</td>\n",
       "      <td>...</td>\n",
       "      <td>...</td>\n",
       "      <td>...</td>\n",
       "      <td>...</td>\n",
       "      <td>...</td>\n",
       "      <td>...</td>\n",
       "      <td>...</td>\n",
       "      <td>...</td>\n",
       "      <td>...</td>\n",
       "      <td>...</td>\n",
       "      <td>...</td>\n",
       "      <td>...</td>\n",
       "      <td>...</td>\n",
       "      <td>...</td>\n",
       "      <td>...</td>\n",
       "    </tr>\n",
       "    <tr>\n",
       "      <th>78</th>\n",
       "      <td>02/03</td>\n",
       "      <td>SuperLiga</td>\n",
       "      <td>Sporting</td>\n",
       "      <td>30</td>\n",
       "      <td>1.56</td>\n",
       "      <td>3</td>\n",
       "      <td>5</td>\n",
       "      <td>NaN</td>\n",
       "      <td>NaN</td>\n",
       "      <td>356</td>\n",
       "      <td>14</td>\n",
       "      <td>8</td>\n",
       "      <td>1</td>\n",
       "      <td>-</td>\n",
       "      <td>NaN</td>\n",
       "      <td>172</td>\n",
       "    </tr>\n",
       "    <tr>\n",
       "      <th>79</th>\n",
       "      <td>02/03</td>\n",
       "      <td>Tace de Portugal</td>\n",
       "      <td>Sporting</td>\n",
       "      <td>3</td>\n",
       "      <td>2</td>\n",
       "      <td>2</td>\n",
       "      <td>-</td>\n",
       "      <td>NaN</td>\n",
       "      <td>NaN</td>\n",
       "      <td>86</td>\n",
       "      <td>1</td>\n",
       "      <td>1</td>\n",
       "      <td>-</td>\n",
       "      <td>-</td>\n",
       "      <td>NaN</td>\n",
       "      <td>118</td>\n",
       "    </tr>\n",
       "    <tr>\n",
       "      <th>80</th>\n",
       "      <td>02/03</td>\n",
       "      <td>UEFA Cup</td>\n",
       "      <td>Sporting</td>\n",
       "      <td>2</td>\n",
       "      <td>0.5</td>\n",
       "      <td>-</td>\n",
       "      <td>1</td>\n",
       "      <td>NaN</td>\n",
       "      <td>NaN</td>\n",
       "      <td>-</td>\n",
       "      <td>1</td>\n",
       "      <td>1</td>\n",
       "      <td>-</td>\n",
       "      <td>-</td>\n",
       "      <td>NaN</td>\n",
       "      <td>-</td>\n",
       "    </tr>\n",
       "    <tr>\n",
       "      <th>81</th>\n",
       "      <td>02/03</td>\n",
       "      <td>Supertaca</td>\n",
       "      <td>Sporting</td>\n",
       "      <td>1</td>\n",
       "      <td>-</td>\n",
       "      <td>-</td>\n",
       "      <td>-</td>\n",
       "      <td>NaN</td>\n",
       "      <td>NaN</td>\n",
       "      <td>-</td>\n",
       "      <td>-</td>\n",
       "      <td>-</td>\n",
       "      <td>-</td>\n",
       "      <td>-</td>\n",
       "      <td>NaN</td>\n",
       "      <td>32</td>\n",
       "    </tr>\n",
       "    <tr>\n",
       "      <th>82</th>\n",
       "      <td>02/03</td>\n",
       "      <td>Chempions League Qu</td>\n",
       "      <td>Sporting</td>\n",
       "      <td>1</td>\n",
       "      <td>1</td>\n",
       "      <td>-</td>\n",
       "      <td>-</td>\n",
       "      <td>NaN</td>\n",
       "      <td>NaN</td>\n",
       "      <td>-</td>\n",
       "      <td>1</td>\n",
       "      <td>-</td>\n",
       "      <td>-</td>\n",
       "      <td>-</td>\n",
       "      <td>NaN</td>\n",
       "      <td>NaN</td>\n",
       "    </tr>\n",
       "  </tbody>\n",
       "</table>\n",
       "<p>83 rows × 16 columns</p>\n",
       "</div>"
      ],
      "text/plain": [
       "   Season          Competition               Club  Squad   PPG Goals Assists  \\\n",
       "0   22/23       Premier League  Manchester United     10     2     1       -   \n",
       "1   22/23        Europe League  Manchester United      4  2.25     1       1   \n",
       "2   21/22       Premier League  Manchester United     30  1.63    18       3   \n",
       "3   21/22     Chempions League  Manchester United      7  1.57     6       -   \n",
       "4   21/22               FA Cup  Manchester United      1     0   NaN       -   \n",
       "..    ...                  ...                ...    ...   ...   ...     ...   \n",
       "78  02/03            SuperLiga           Sporting     30  1.56     3       5   \n",
       "79  02/03     Tace de Portugal           Sporting      3     2     2       -   \n",
       "80  02/03             UEFA Cup           Sporting      2   0.5     -       1   \n",
       "81  02/03            Supertaca           Sporting      1     -     -       -   \n",
       "82  02/03  Chempions League Qu           Sporting      1     1     -       -   \n",
       "\n",
       "    Own goals Penalty goals Minutes per goal Substitution on Substitution off  \\\n",
       "0         NaN             -              340               6                1   \n",
       "1         NaN             1              351               -                1   \n",
       "2         NaN             3              137               3                6   \n",
       "3         NaN             -              102               -                2   \n",
       "4         NaN             -                -               -                -   \n",
       "..        ...           ...              ...             ...              ...   \n",
       "78        NaN           NaN              356              14                8   \n",
       "79        NaN           NaN               86               1                1   \n",
       "80        NaN           NaN                -               1                1   \n",
       "81        NaN           NaN                -               -                -   \n",
       "82        NaN           NaN                -               1                -   \n",
       "\n",
       "   Yellow Cards Second yellow cards  Red Cards Minutes played  \n",
       "0             1                   -        NaN            340  \n",
       "1             -                   -        NaN            351  \n",
       "2             8                   -        NaN           2459  \n",
       "3             1                   -        NaN            612  \n",
       "4             -                   -        NaN            120  \n",
       "..          ...                 ...        ...            ...  \n",
       "78            1                   -        NaN            172  \n",
       "79            -                   -        NaN            118  \n",
       "80            -                   -        NaN              -  \n",
       "81            -                   -        NaN             32  \n",
       "82            -                   -        NaN            NaN  \n",
       "\n",
       "[83 rows x 16 columns]"
      ]
     },
     "execution_count": 4,
     "metadata": {},
     "output_type": "execute_result"
    }
   ],
   "source": [
    "df"
   ]
  },
  {
   "cell_type": "markdown",
   "id": "082ae719",
   "metadata": {},
   "source": [
    "# 1. Data Exploration"
   ]
  },
  {
   "cell_type": "code",
   "execution_count": 7,
   "id": "0180556c",
   "metadata": {},
   "outputs": [
    {
     "data": {
      "text/html": [
       "<div>\n",
       "<style scoped>\n",
       "    .dataframe tbody tr th:only-of-type {\n",
       "        vertical-align: middle;\n",
       "    }\n",
       "\n",
       "    .dataframe tbody tr th {\n",
       "        vertical-align: top;\n",
       "    }\n",
       "\n",
       "    .dataframe thead th {\n",
       "        text-align: right;\n",
       "    }\n",
       "</style>\n",
       "<table border=\"1\" class=\"dataframe\">\n",
       "  <thead>\n",
       "    <tr style=\"text-align: right;\">\n",
       "      <th></th>\n",
       "      <th>Season</th>\n",
       "      <th>Competition</th>\n",
       "      <th>Club</th>\n",
       "      <th>Squad</th>\n",
       "      <th>PPG</th>\n",
       "      <th>Goals</th>\n",
       "      <th>Assists</th>\n",
       "      <th>Own goals</th>\n",
       "      <th>Penalty goals</th>\n",
       "      <th>Minutes per goal</th>\n",
       "      <th>Substitution on</th>\n",
       "      <th>Substitution off</th>\n",
       "      <th>Yellow Cards</th>\n",
       "      <th>Second yellow cards</th>\n",
       "      <th>Red Cards</th>\n",
       "      <th>Minutes played</th>\n",
       "    </tr>\n",
       "  </thead>\n",
       "  <tbody>\n",
       "    <tr>\n",
       "      <th>0</th>\n",
       "      <td>22/23</td>\n",
       "      <td>Premier League</td>\n",
       "      <td>Manchester United</td>\n",
       "      <td>10</td>\n",
       "      <td>2</td>\n",
       "      <td>1</td>\n",
       "      <td>-</td>\n",
       "      <td>NaN</td>\n",
       "      <td>-</td>\n",
       "      <td>340</td>\n",
       "      <td>6</td>\n",
       "      <td>1</td>\n",
       "      <td>1</td>\n",
       "      <td>-</td>\n",
       "      <td>NaN</td>\n",
       "      <td>340</td>\n",
       "    </tr>\n",
       "    <tr>\n",
       "      <th>1</th>\n",
       "      <td>22/23</td>\n",
       "      <td>Europe League</td>\n",
       "      <td>Manchester United</td>\n",
       "      <td>4</td>\n",
       "      <td>2.25</td>\n",
       "      <td>1</td>\n",
       "      <td>1</td>\n",
       "      <td>NaN</td>\n",
       "      <td>1</td>\n",
       "      <td>351</td>\n",
       "      <td>-</td>\n",
       "      <td>1</td>\n",
       "      <td>-</td>\n",
       "      <td>-</td>\n",
       "      <td>NaN</td>\n",
       "      <td>351</td>\n",
       "    </tr>\n",
       "    <tr>\n",
       "      <th>2</th>\n",
       "      <td>21/22</td>\n",
       "      <td>Premier League</td>\n",
       "      <td>Manchester United</td>\n",
       "      <td>30</td>\n",
       "      <td>1.63</td>\n",
       "      <td>18</td>\n",
       "      <td>3</td>\n",
       "      <td>NaN</td>\n",
       "      <td>3</td>\n",
       "      <td>137</td>\n",
       "      <td>3</td>\n",
       "      <td>6</td>\n",
       "      <td>8</td>\n",
       "      <td>-</td>\n",
       "      <td>NaN</td>\n",
       "      <td>2459</td>\n",
       "    </tr>\n",
       "    <tr>\n",
       "      <th>3</th>\n",
       "      <td>21/22</td>\n",
       "      <td>Chempions League</td>\n",
       "      <td>Manchester United</td>\n",
       "      <td>7</td>\n",
       "      <td>1.57</td>\n",
       "      <td>6</td>\n",
       "      <td>-</td>\n",
       "      <td>NaN</td>\n",
       "      <td>-</td>\n",
       "      <td>102</td>\n",
       "      <td>-</td>\n",
       "      <td>2</td>\n",
       "      <td>1</td>\n",
       "      <td>-</td>\n",
       "      <td>NaN</td>\n",
       "      <td>612</td>\n",
       "    </tr>\n",
       "    <tr>\n",
       "      <th>4</th>\n",
       "      <td>21/22</td>\n",
       "      <td>FA Cup</td>\n",
       "      <td>Manchester United</td>\n",
       "      <td>1</td>\n",
       "      <td>0</td>\n",
       "      <td>NaN</td>\n",
       "      <td>-</td>\n",
       "      <td>NaN</td>\n",
       "      <td>-</td>\n",
       "      <td>-</td>\n",
       "      <td>-</td>\n",
       "      <td>-</td>\n",
       "      <td>-</td>\n",
       "      <td>-</td>\n",
       "      <td>NaN</td>\n",
       "      <td>120</td>\n",
       "    </tr>\n",
       "  </tbody>\n",
       "</table>\n",
       "</div>"
      ],
      "text/plain": [
       "  Season       Competition               Club  Squad   PPG Goals Assists  \\\n",
       "0  22/23    Premier League  Manchester United     10     2     1       -   \n",
       "1  22/23     Europe League  Manchester United      4  2.25     1       1   \n",
       "2  21/22    Premier League  Manchester United     30  1.63    18       3   \n",
       "3  21/22  Chempions League  Manchester United      7  1.57     6       -   \n",
       "4  21/22            FA Cup  Manchester United      1     0   NaN       -   \n",
       "\n",
       "   Own goals Penalty goals Minutes per goal Substitution on Substitution off  \\\n",
       "0        NaN             -              340               6                1   \n",
       "1        NaN             1              351               -                1   \n",
       "2        NaN             3              137               3                6   \n",
       "3        NaN             -              102               -                2   \n",
       "4        NaN             -                -               -                -   \n",
       "\n",
       "  Yellow Cards Second yellow cards  Red Cards Minutes played  \n",
       "0            1                   -        NaN            340  \n",
       "1            -                   -        NaN            351  \n",
       "2            8                   -        NaN           2459  \n",
       "3            1                   -        NaN            612  \n",
       "4            -                   -        NaN            120  "
      ]
     },
     "execution_count": 7,
     "metadata": {},
     "output_type": "execute_result"
    }
   ],
   "source": [
    "#By default we can see first 5 rows\n",
    "df.head()"
   ]
  },
  {
   "cell_type": "code",
   "execution_count": 8,
   "id": "61abd62a",
   "metadata": {},
   "outputs": [
    {
     "data": {
      "text/plain": [
       "(83, 16)"
      ]
     },
     "execution_count": 8,
     "metadata": {},
     "output_type": "execute_result"
    }
   ],
   "source": [
    "# Shape of our dataframe includes 83 rows and 16 columns\n",
    "df.shape"
   ]
  },
  {
   "cell_type": "code",
   "execution_count": 9,
   "id": "34b8776c",
   "metadata": {},
   "outputs": [
    {
     "data": {
      "text/plain": [
       "RangeIndex(start=0, stop=83, step=1)"
      ]
     },
     "execution_count": 9,
     "metadata": {},
     "output_type": "execute_result"
    }
   ],
   "source": [
    "#Index of df startes 0 and ends with 83\n",
    "df.index"
   ]
  },
  {
   "cell_type": "code",
   "execution_count": 11,
   "id": "9fb34e98",
   "metadata": {},
   "outputs": [
    {
     "data": {
      "text/plain": [
       "Index(['Season', 'Competition', 'Club', 'Squad', 'PPG', 'Goals', 'Assists',\n",
       "       'Own goals', 'Penalty goals', 'Minutes per goal', 'Substitution on',\n",
       "       'Substitution off', 'Yellow Cards', 'Second yellow cards', 'Red Cards',\n",
       "       'Minutes played'],\n",
       "      dtype='object')"
      ]
     },
     "execution_count": 11,
     "metadata": {},
     "output_type": "execute_result"
    }
   ],
   "source": [
    "# all columns of df\n",
    "df.columns"
   ]
  },
  {
   "cell_type": "code",
   "execution_count": 14,
   "id": "4c904ca7",
   "metadata": {},
   "outputs": [
    {
     "data": {
      "text/plain": [
       "Season                  object\n",
       "Competition             object\n",
       "Club                    object\n",
       "Squad                    int64\n",
       "PPG                     object\n",
       "Goals                   object\n",
       "Assists                 object\n",
       "Own goals              float64\n",
       "Penalty goals           object\n",
       "Minutes per goal        object\n",
       "Substitution on         object\n",
       "Substitution off        object\n",
       "Yellow Cards            object\n",
       "Second yellow cards     object\n",
       "Red Cards              float64\n",
       "Minutes played          object\n",
       "dtype: object"
      ]
     },
     "execution_count": 14,
     "metadata": {},
     "output_type": "execute_result"
    }
   ],
   "source": [
    "# all information about all data of df\n",
    "df.dtypes"
   ]
  },
  {
   "cell_type": "code",
   "execution_count": 16,
   "id": "52cd2497",
   "metadata": {},
   "outputs": [
    {
     "data": {
      "text/plain": [
       "array(['1', '18', '6', nan, '29', '2', '4', '31', '-', '21', '15', '26',\n",
       "       '12', '25', '16', '35', '48', '10', '17', '3', '7', '34', '46',\n",
       "       '40', '8', '9', '5'], dtype=object)"
      ]
     },
     "execution_count": 16,
     "metadata": {},
     "output_type": "execute_result"
    }
   ],
   "source": [
    "#  The unique elements of particular column\n",
    "df['Goals'].unique()"
   ]
  },
  {
   "cell_type": "code",
   "execution_count": 17,
   "id": "128dc0ef",
   "metadata": {},
   "outputs": [
    {
     "data": {
      "text/plain": [
       "26"
      ]
     },
     "execution_count": 17,
     "metadata": {},
     "output_type": "execute_result"
    }
   ],
   "source": [
    "#Number of particular column unique elements\n",
    "df['Goals'].nunique()"
   ]
  },
  {
   "cell_type": "code",
   "execution_count": 18,
   "id": "cead9bc1",
   "metadata": {},
   "outputs": [
    {
     "data": {
      "text/plain": [
       "Season                 83\n",
       "Competition            83\n",
       "Club                   83\n",
       "Squad                  83\n",
       "PPG                    83\n",
       "Goals                  81\n",
       "Assists                83\n",
       "Own goals               1\n",
       "Penalty goals          64\n",
       "Minutes per goal       83\n",
       "Substitution on        83\n",
       "Substitution off       83\n",
       "Yellow Cards           83\n",
       "Second yellow cards    83\n",
       "Red Cards               2\n",
       "Minutes played         82\n",
       "dtype: int64"
      ]
     },
     "execution_count": 18,
     "metadata": {},
     "output_type": "execute_result"
    }
   ],
   "source": [
    "# Total number of non null elements\n",
    "df.count()"
   ]
  },
  {
   "cell_type": "code",
   "execution_count": 19,
   "id": "6f318753",
   "metadata": {},
   "outputs": [
    {
     "name": "stdout",
     "output_type": "stream",
     "text": [
      "<class 'pandas.core.frame.DataFrame'>\n",
      "RangeIndex: 83 entries, 0 to 82\n",
      "Data columns (total 16 columns):\n",
      " #   Column               Non-Null Count  Dtype  \n",
      "---  ------               --------------  -----  \n",
      " 0   Season               83 non-null     object \n",
      " 1   Competition          83 non-null     object \n",
      " 2   Club                 83 non-null     object \n",
      " 3   Squad                83 non-null     int64  \n",
      " 4   PPG                  83 non-null     object \n",
      " 5   Goals                81 non-null     object \n",
      " 6   Assists              83 non-null     object \n",
      " 7   Own goals            1 non-null      float64\n",
      " 8   Penalty goals        64 non-null     object \n",
      " 9   Minutes per goal     83 non-null     object \n",
      " 10  Substitution on      83 non-null     object \n",
      " 11  Substitution off     83 non-null     object \n",
      " 12  Yellow Cards         83 non-null     object \n",
      " 13  Second yellow cards  83 non-null     object \n",
      " 14  Red Cards            2 non-null      float64\n",
      " 15  Minutes played       82 non-null     object \n",
      "dtypes: float64(2), int64(1), object(13)\n",
      "memory usage: 10.5+ KB\n"
     ]
    }
   ],
   "source": [
    "# General charectiristics of df\n",
    "df.info()"
   ]
  },
  {
   "cell_type": "code",
   "execution_count": 20,
   "id": "dad29561",
   "metadata": {},
   "outputs": [
    {
     "data": {
      "text/html": [
       "<div>\n",
       "<style scoped>\n",
       "    .dataframe tbody tr th:only-of-type {\n",
       "        vertical-align: middle;\n",
       "    }\n",
       "\n",
       "    .dataframe tbody tr th {\n",
       "        vertical-align: top;\n",
       "    }\n",
       "\n",
       "    .dataframe thead th {\n",
       "        text-align: right;\n",
       "    }\n",
       "</style>\n",
       "<table border=\"1\" class=\"dataframe\">\n",
       "  <thead>\n",
       "    <tr style=\"text-align: right;\">\n",
       "      <th></th>\n",
       "      <th>Squad</th>\n",
       "      <th>Own goals</th>\n",
       "      <th>Red Cards</th>\n",
       "    </tr>\n",
       "  </thead>\n",
       "  <tbody>\n",
       "    <tr>\n",
       "      <th>count</th>\n",
       "      <td>83.000000</td>\n",
       "      <td>1.0</td>\n",
       "      <td>2.0</td>\n",
       "    </tr>\n",
       "    <tr>\n",
       "      <th>mean</th>\n",
       "      <td>11.638554</td>\n",
       "      <td>1.0</td>\n",
       "      <td>1.0</td>\n",
       "    </tr>\n",
       "    <tr>\n",
       "      <th>std</th>\n",
       "      <td>12.430861</td>\n",
       "      <td>NaN</td>\n",
       "      <td>0.0</td>\n",
       "    </tr>\n",
       "    <tr>\n",
       "      <th>min</th>\n",
       "      <td>1.000000</td>\n",
       "      <td>1.0</td>\n",
       "      <td>1.0</td>\n",
       "    </tr>\n",
       "    <tr>\n",
       "      <th>25%</th>\n",
       "      <td>2.000000</td>\n",
       "      <td>1.0</td>\n",
       "      <td>1.0</td>\n",
       "    </tr>\n",
       "    <tr>\n",
       "      <th>50%</th>\n",
       "      <td>6.000000</td>\n",
       "      <td>1.0</td>\n",
       "      <td>1.0</td>\n",
       "    </tr>\n",
       "    <tr>\n",
       "      <th>75%</th>\n",
       "      <td>13.000000</td>\n",
       "      <td>1.0</td>\n",
       "      <td>1.0</td>\n",
       "    </tr>\n",
       "    <tr>\n",
       "      <th>max</th>\n",
       "      <td>38.000000</td>\n",
       "      <td>1.0</td>\n",
       "      <td>1.0</td>\n",
       "    </tr>\n",
       "  </tbody>\n",
       "</table>\n",
       "</div>"
      ],
      "text/plain": [
       "           Squad  Own goals  Red Cards\n",
       "count  83.000000        1.0        2.0\n",
       "mean   11.638554        1.0        1.0\n",
       "std    12.430861        NaN        0.0\n",
       "min     1.000000        1.0        1.0\n",
       "25%     2.000000        1.0        1.0\n",
       "50%     6.000000        1.0        1.0\n",
       "75%    13.000000        1.0        1.0\n",
       "max    38.000000        1.0        1.0"
      ]
     },
     "execution_count": 20,
     "metadata": {},
     "output_type": "execute_result"
    }
   ],
   "source": [
    "#All stattistical information of df \n",
    "df.describe()"
   ]
  },
  {
   "cell_type": "markdown",
   "id": "eaaa6ad0",
   "metadata": {},
   "source": [
    "# Analysis and question part"
   ]
  },
  {
   "cell_type": "code",
   "execution_count": 24,
   "id": "e8b9ed7f",
   "metadata": {},
   "outputs": [
    {
     "data": {
      "text/plain": [
       "Season                  0\n",
       "Competition             0\n",
       "Club                    0\n",
       "Squad                   0\n",
       "PPG                     0\n",
       "Goals                   2\n",
       "Assists                 0\n",
       "Own goals              82\n",
       "Penalty goals          19\n",
       "Minutes per goal        0\n",
       "Substitution on         0\n",
       "Substitution off        0\n",
       "Yellow Cards            0\n",
       "Second yellow cards     0\n",
       "Red Cards              81\n",
       "Minutes played          1\n",
       "dtype: int64"
      ]
     },
     "execution_count": 24,
     "metadata": {},
     "output_type": "execute_result"
    }
   ],
   "source": [
    "#First we will check either has null values or not\n",
    "#We can see that some of columns has a null or missing values including:Goals,Own Goals,Penalty Goals,Red Cards and Minut Played\n",
    "#In our table all missing vaues means 0. For example o goals is no goal\n",
    "df.isnull().sum()"
   ]
  },
  {
   "cell_type": "code",
   "execution_count": 30,
   "id": "261482a2",
   "metadata": {},
   "outputs": [
    {
     "data": {
      "image/png": "[encoded data removed]",
      "text/plain": [
       "<Figure size 432x288 with 2 Axes>"
      ]
     },
     "metadata": {
      "needs_background": "light"
     },
     "output_type": "display_data"
    }
   ],
   "source": [
    "#Plotting missing values with seaborn library\n",
    "sns.heatmap(df.isnull())\n",
    "\n",
    "plt.show()"
   ]
  },
  {
   "cell_type": "code",
   "execution_count": 31,
   "id": "9b0f6b5a",
   "metadata": {},
   "outputs": [
    {
     "data": {
      "text/html": [
       "<div>\n",
       "<style scoped>\n",
       "    .dataframe tbody tr th:only-of-type {\n",
       "        vertical-align: middle;\n",
       "    }\n",
       "\n",
       "    .dataframe tbody tr th {\n",
       "        vertical-align: top;\n",
       "    }\n",
       "\n",
       "    .dataframe thead th {\n",
       "        text-align: right;\n",
       "    }\n",
       "</style>\n",
       "<table border=\"1\" class=\"dataframe\">\n",
       "  <thead>\n",
       "    <tr style=\"text-align: right;\">\n",
       "      <th></th>\n",
       "      <th>Season</th>\n",
       "      <th>Competition</th>\n",
       "      <th>Club</th>\n",
       "      <th>Squad</th>\n",
       "      <th>PPG</th>\n",
       "      <th>Goals</th>\n",
       "      <th>Assists</th>\n",
       "      <th>Own goals</th>\n",
       "      <th>Penalty goals</th>\n",
       "      <th>Minutes per goal</th>\n",
       "      <th>Substitution on</th>\n",
       "      <th>Substitution off</th>\n",
       "      <th>Yellow Cards</th>\n",
       "      <th>Second yellow cards</th>\n",
       "      <th>Red Cards</th>\n",
       "      <th>Minutes played</th>\n",
       "    </tr>\n",
       "  </thead>\n",
       "  <tbody>\n",
       "    <tr>\n",
       "      <th>0</th>\n",
       "      <td>22/23</td>\n",
       "      <td>Premier League</td>\n",
       "      <td>Manchester United</td>\n",
       "      <td>10</td>\n",
       "      <td>2</td>\n",
       "      <td>1</td>\n",
       "      <td>-</td>\n",
       "      <td>NaN</td>\n",
       "      <td>-</td>\n",
       "      <td>340</td>\n",
       "      <td>6</td>\n",
       "      <td>1</td>\n",
       "      <td>1</td>\n",
       "      <td>-</td>\n",
       "      <td>NaN</td>\n",
       "      <td>340</td>\n",
       "    </tr>\n",
       "    <tr>\n",
       "      <th>1</th>\n",
       "      <td>22/23</td>\n",
       "      <td>Europe League</td>\n",
       "      <td>Manchester United</td>\n",
       "      <td>4</td>\n",
       "      <td>2.25</td>\n",
       "      <td>1</td>\n",
       "      <td>1</td>\n",
       "      <td>NaN</td>\n",
       "      <td>1</td>\n",
       "      <td>351</td>\n",
       "      <td>-</td>\n",
       "      <td>1</td>\n",
       "      <td>-</td>\n",
       "      <td>-</td>\n",
       "      <td>NaN</td>\n",
       "      <td>351</td>\n",
       "    </tr>\n",
       "  </tbody>\n",
       "</table>\n",
       "</div>"
      ],
      "text/plain": [
       "  Season     Competition               Club  Squad   PPG Goals Assists  \\\n",
       "0  22/23  Premier League  Manchester United     10     2     1       -   \n",
       "1  22/23   Europe League  Manchester United      4  2.25     1       1   \n",
       "\n",
       "   Own goals Penalty goals Minutes per goal Substitution on Substitution off  \\\n",
       "0        NaN             -              340               6                1   \n",
       "1        NaN             1              351               -                1   \n",
       "\n",
       "  Yellow Cards Second yellow cards  Red Cards Minutes played  \n",
       "0            1                   -        NaN            340  \n",
       "1            -                   -        NaN            351  "
      ]
     },
     "execution_count": 31,
     "metadata": {},
     "output_type": "execute_result"
    }
   ],
   "source": [
    "df.head(2)"
   ]
  },
  {
   "cell_type": "markdown",
   "id": "5c7adf56",
   "metadata": {},
   "source": [
    "# 1. What is mean of Goals,Assits,Penalty Goals"
   ]
  },
  {
   "cell_type": "code",
   "execution_count": 45,
   "id": "7616ddaf",
   "metadata": {},
   "outputs": [
    {
     "name": "stdout",
     "output_type": "stream",
     "text": [
      "3.1153846153846154\n",
      "5.928571428571429\n",
      "6.4\n"
     ]
    }
   ],
   "source": [
    "#Goals\n",
    "print(df['Goals'].value_counts().mean())\n",
    "#Assits\n",
    "print(df['Assists'].value_counts().mean())\n",
    "#Penalty goals\n",
    "print(df['Penalty goals'].value_counts().mean())"
   ]
  },
  {
   "cell_type": "markdown",
   "id": "3a0842a4",
   "metadata": {},
   "source": [
    "# 2. what is max and min  of Goals,Assits,Penalty Goals"
   ]
  },
  {
   "cell_type": "code",
   "execution_count": 50,
   "id": "85334320",
   "metadata": {},
   "outputs": [
    {
     "name": "stdout",
     "output_type": "stream",
     "text": [
      "17\n",
      "1\n",
      "33\n",
      "1\n",
      "28\n",
      "1\n"
     ]
    }
   ],
   "source": [
    "#Goals\n",
    "print(df['Goals'].value_counts().max())\n",
    "print(df['Goals'].value_counts().min())\n",
    "#Assits\n",
    "print(df['Assists'].value_counts().max())\n",
    "print(df['Assists'].value_counts().min())\n",
    "#Penalty goals\n",
    "print(df['Penalty goals'].value_counts().max())\n",
    "print(df['Penalty goals'].value_counts().min())"
   ]
  },
  {
   "cell_type": "markdown",
   "id": "36a0a56e",
   "metadata": {},
   "source": [
    "# 3. The number of goals by season"
   ]
  },
  {
   "cell_type": "code",
   "execution_count": 56,
   "id": "b5ac9f2c",
   "metadata": {},
   "outputs": [
    {
     "data": {
      "text/plain": [
       "Goals  Season\n",
       "-      02/03     3\n",
       "       04/05     3\n",
       "       03/04     2\n",
       "       05/06     2\n",
       "       14/15     2\n",
       "                ..\n",
       "7      09/10     1\n",
       "       10/11     1\n",
       "       12/13     1\n",
       "8      07/08     1\n",
       "9      05/06     1\n",
       "Name: Season, Length: 71, dtype: int64"
      ]
     },
     "execution_count": 56,
     "metadata": {},
     "output_type": "execute_result"
    }
   ],
   "source": [
    "df.groupby('Goals')['Season'].value_counts()"
   ]
  },
  {
   "cell_type": "markdown",
   "id": "ebb7be82",
   "metadata": {},
   "source": [
    "# 4. Number of assistant according to played club"
   ]
  },
  {
   "cell_type": "code",
   "execution_count": 58,
   "id": "afe12d18",
   "metadata": {},
   "outputs": [
    {
     "data": {
      "text/plain": [
       "Club               Assists\n",
       "Juventus           -           7\n",
       "                   2           3\n",
       "                   1           1\n",
       "                   6           1\n",
       "                   9           1\n",
       "Manchester United  -          12\n",
       "                   1           8\n",
       "                   3           4\n",
       "                   4           2\n",
       "                   7           2\n",
       "                   2           1\n",
       "                   5           1\n",
       "                   6           1\n",
       "                   8           1\n",
       "Real Madrid        -          11\n",
       "                   1           5\n",
       "                   11          3\n",
       "                   4           3\n",
       "                   3           2\n",
       "                   5           2\n",
       "                   6           2\n",
       "                   12          1\n",
       "                   13          1\n",
       "                   17          1\n",
       "                   2           1\n",
       "                   9           1\n",
       "Sporting           -           3\n",
       "                   1           1\n",
       "                   5           1\n",
       "Name: Assists, dtype: int64"
      ]
     },
     "execution_count": 58,
     "metadata": {},
     "output_type": "execute_result"
    }
   ],
   "source": [
    "df.groupby('Club')['Assists'].value_counts()"
   ]
  },
  {
   "cell_type": "markdown",
   "id": "441917e8",
   "metadata": {},
   "source": [
    "# 5. List of clubs where Squadm, own goals, red cards"
   ]
  },
  {
   "cell_type": "code",
   "execution_count": 66,
   "id": "efd0531d",
   "metadata": {},
   "outputs": [
    {
     "data": {
      "text/html": [
       "<div>\n",
       "<style scoped>\n",
       "    .dataframe tbody tr th:only-of-type {\n",
       "        vertical-align: middle;\n",
       "    }\n",
       "\n",
       "    .dataframe tbody tr th {\n",
       "        vertical-align: top;\n",
       "    }\n",
       "\n",
       "    .dataframe thead th {\n",
       "        text-align: right;\n",
       "    }\n",
       "</style>\n",
       "<table border=\"1\" class=\"dataframe\">\n",
       "  <thead>\n",
       "    <tr style=\"text-align: right;\">\n",
       "      <th></th>\n",
       "      <th>Squad</th>\n",
       "      <th>Own goals</th>\n",
       "      <th>Red Cards</th>\n",
       "    </tr>\n",
       "    <tr>\n",
       "      <th>Club</th>\n",
       "      <th></th>\n",
       "      <th></th>\n",
       "      <th></th>\n",
       "    </tr>\n",
       "  </thead>\n",
       "  <tbody>\n",
       "    <tr>\n",
       "      <th>Juventus</th>\n",
       "      <td>136</td>\n",
       "      <td>0.0</td>\n",
       "      <td>0.0</td>\n",
       "    </tr>\n",
       "    <tr>\n",
       "      <th>Manchester United</th>\n",
       "      <td>352</td>\n",
       "      <td>0.0</td>\n",
       "      <td>0.0</td>\n",
       "    </tr>\n",
       "    <tr>\n",
       "      <th>Real Madrid</th>\n",
       "      <td>441</td>\n",
       "      <td>1.0</td>\n",
       "      <td>2.0</td>\n",
       "    </tr>\n",
       "    <tr>\n",
       "      <th>Sporting</th>\n",
       "      <td>37</td>\n",
       "      <td>0.0</td>\n",
       "      <td>0.0</td>\n",
       "    </tr>\n",
       "  </tbody>\n",
       "</table>\n",
       "</div>"
      ],
      "text/plain": [
       "                   Squad  Own goals  Red Cards\n",
       "Club                                          \n",
       "Juventus             136        0.0        0.0\n",
       "Manchester United    352        0.0        0.0\n",
       "Real Madrid          441        1.0        2.0\n",
       "Sporting              37        0.0        0.0"
      ]
     },
     "execution_count": 66,
     "metadata": {},
     "output_type": "execute_result"
    }
   ],
   "source": [
    "df.groupby('Club').sum()\n"
   ]
  },
  {
   "cell_type": "markdown",
   "id": "9f580c30",
   "metadata": {},
   "source": [
    "# 6. Minutes per goal accordingly competation and clubs(season)"
   ]
  },
  {
   "cell_type": "code",
   "execution_count": 68,
   "id": "a04af6e3",
   "metadata": {},
   "outputs": [
    {
     "data": {
      "text/html": [
       "<div>\n",
       "<style scoped>\n",
       "    .dataframe tbody tr th:only-of-type {\n",
       "        vertical-align: middle;\n",
       "    }\n",
       "\n",
       "    .dataframe tbody tr th {\n",
       "        vertical-align: top;\n",
       "    }\n",
       "\n",
       "    .dataframe thead th {\n",
       "        text-align: right;\n",
       "    }\n",
       "</style>\n",
       "<table border=\"1\" class=\"dataframe\">\n",
       "  <thead>\n",
       "    <tr style=\"text-align: right;\">\n",
       "      <th></th>\n",
       "      <th>Season</th>\n",
       "      <th>Competition</th>\n",
       "      <th>Club</th>\n",
       "      <th>Squad</th>\n",
       "      <th>PPG</th>\n",
       "      <th>Goals</th>\n",
       "      <th>Assists</th>\n",
       "      <th>Own goals</th>\n",
       "      <th>Penalty goals</th>\n",
       "      <th>Minutes per goal</th>\n",
       "      <th>Substitution on</th>\n",
       "      <th>Substitution off</th>\n",
       "      <th>Yellow Cards</th>\n",
       "      <th>Second yellow cards</th>\n",
       "      <th>Red Cards</th>\n",
       "      <th>Minutes played</th>\n",
       "    </tr>\n",
       "  </thead>\n",
       "  <tbody>\n",
       "    <tr>\n",
       "      <th>0</th>\n",
       "      <td>22/23</td>\n",
       "      <td>Premier League</td>\n",
       "      <td>Manchester United</td>\n",
       "      <td>10</td>\n",
       "      <td>2</td>\n",
       "      <td>1</td>\n",
       "      <td>-</td>\n",
       "      <td>NaN</td>\n",
       "      <td>-</td>\n",
       "      <td>340</td>\n",
       "      <td>6</td>\n",
       "      <td>1</td>\n",
       "      <td>1</td>\n",
       "      <td>-</td>\n",
       "      <td>NaN</td>\n",
       "      <td>340</td>\n",
       "    </tr>\n",
       "    <tr>\n",
       "      <th>1</th>\n",
       "      <td>22/23</td>\n",
       "      <td>Europe League</td>\n",
       "      <td>Manchester United</td>\n",
       "      <td>4</td>\n",
       "      <td>2.25</td>\n",
       "      <td>1</td>\n",
       "      <td>1</td>\n",
       "      <td>NaN</td>\n",
       "      <td>1</td>\n",
       "      <td>351</td>\n",
       "      <td>-</td>\n",
       "      <td>1</td>\n",
       "      <td>-</td>\n",
       "      <td>-</td>\n",
       "      <td>NaN</td>\n",
       "      <td>351</td>\n",
       "    </tr>\n",
       "  </tbody>\n",
       "</table>\n",
       "</div>"
      ],
      "text/plain": [
       "  Season     Competition               Club  Squad   PPG Goals Assists  \\\n",
       "0  22/23  Premier League  Manchester United     10     2     1       -   \n",
       "1  22/23   Europe League  Manchester United      4  2.25     1       1   \n",
       "\n",
       "   Own goals Penalty goals Minutes per goal Substitution on Substitution off  \\\n",
       "0        NaN             -              340               6                1   \n",
       "1        NaN             1              351               -                1   \n",
       "\n",
       "  Yellow Cards Second yellow cards  Red Cards Minutes played  \n",
       "0            1                   -        NaN            340  \n",
       "1            -                   -        NaN            351  "
      ]
     },
     "execution_count": 68,
     "metadata": {},
     "output_type": "execute_result"
    }
   ],
   "source": [
    "df.head(2)"
   ]
  },
  {
   "cell_type": "code",
   "execution_count": 95,
   "id": "79a140c6",
   "metadata": {},
   "outputs": [
    {
     "name": "stdout",
     "output_type": "stream",
     "text": [
      "Minutes per goal  Competition        \n",
      "-                 Chempions League       3\n",
      "                  League Cup             3\n",
      "                  Chempions League Qu    2\n",
      "                  FA Cup                 2\n",
      "                  Club World Cup         1\n",
      "                                        ..\n",
      "94                Cope del Rey           1\n",
      "                  Seria A                1\n",
      "95                LaLiga                 1\n",
      "97                Seria A                1\n",
      "98                Cope del Rey           1\n",
      "Name: Competition, Length: 75, dtype: int64\n",
      "Minutes per goal  Club             \n",
      "-                 Manchester United    10\n",
      "                  Juventus              3\n",
      "                  Real Madrid           3\n",
      "                  Sporting              3\n",
      "100               Real Madrid           1\n",
      "                                       ..\n",
      "94                Juventus              1\n",
      "                  Real Madrid           1\n",
      "95                Real Madrid           1\n",
      "97                Juventus              1\n",
      "98                Real Madrid           1\n",
      "Name: Club, Length: 63, dtype: int64\n"
     ]
    }
   ],
   "source": [
    "#1\n",
    "print(df.groupby('Minutes per goal')['Competition'].value_counts())\n",
    "#2\n",
    "print(df.groupby('Minutes per goal')['Club'].value_counts())\n"
   ]
  },
  {
   "cell_type": "code",
   "execution_count": null,
   "id": "f9c5fbd0",
   "metadata": {},
   "outputs": [],
   "source": [
    "#By Davronbek Malikov"
   ]
  }
 ],
 "metadata": {
  "kernelspec": {
   "display_name": "Python 3 (ipykernel)",
   "language": "python",
   "name": "python3"
  },
  "language_info": {
   "codemirror_mode": {
    "name": "ipython",
    "version": 3
   },
   "file_extension": ".py",
   "mimetype": "text/x-python",
   "name": "python",
   "nbconvert_exporter": "python",
   "pygments_lexer": "ipython3",
   "version": "3.9.12"
  }
 },
 "nbformat": 4,
 "nbformat_minor": 5
}
